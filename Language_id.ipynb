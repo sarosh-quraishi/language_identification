{
 "cells": [
  {
   "cell_type": "code",
   "execution_count": 1,
   "metadata": {
    "collapsed": true
   },
   "outputs": [],
   "source": [
    "%matplotlib inline\n",
    "\n",
    "import matplotlib\n",
    "import seaborn as sns"
   ]
  },
  {
   "cell_type": "code",
   "execution_count": null,
   "metadata": {
    "collapsed": false
   },
   "outputs": [],
   "source": []
  },
  {
   "cell_type": "code",
   "execution_count": 2,
   "metadata": {
    "collapsed": true
   },
   "outputs": [],
   "source": [
    "import pandas as pd\n",
    "import numpy as np\n",
    "from time import time\n",
    "\n",
    "\n",
    "from sklearn.feature_extraction.text import CountVectorizer\n",
    "from sklearn.feature_extraction.text import TfidfTransformer\n",
    "from sklearn.cluster import KMeans\n",
    "from sklearn.metrics import confusion_matrix"
   ]
  },
  {
   "cell_type": "markdown",
   "metadata": {},
   "source": [
    "# Part 1: Prepare data"
   ]
  },
  {
   "cell_type": "code",
   "execution_count": 3,
   "metadata": {
    "collapsed": false
   },
   "outputs": [
    {
     "name": "stderr",
     "output_type": "stream",
     "text": [
      "/home/sarosh/anaconda3/envs/tensorflow/lib/python3.5/site-packages/ipykernel/__main__.py:2: ParserWarning: Falling back to the 'python' engine because the 'c' engine does not support regex separators (separators > 1 char and different from '\\s+' are interpreted as regex); you can avoid this warning by specifying engine='python'.\n",
      "  from ipykernel import kernelapp as app\n"
     ]
    }
   ],
   "source": [
    "fileName =  'train.txt'\n",
    "df = pd.read_csv(fileName, sep='delimiter', header=None)"
   ]
  },
  {
   "cell_type": "code",
   "execution_count": 4,
   "metadata": {
    "collapsed": false
   },
   "outputs": [
    {
     "data": {
      "text/html": [
       "<div>\n",
       "<table border=\"1\" class=\"dataframe\">\n",
       "  <thead>\n",
       "    <tr style=\"text-align: right;\">\n",
       "      <th></th>\n",
       "      <th>sentence</th>\n",
       "    </tr>\n",
       "  </thead>\n",
       "  <tbody>\n",
       "    <tr>\n",
       "      <th>233995</th>\n",
       "      <td>Zardari refuses to answer questions from polit...</td>\n",
       "    </tr>\n",
       "    <tr>\n",
       "      <th>233996</th>\n",
       "      <td>Zion Kim, 17, of River Edge said the group spe...</td>\n",
       "    </tr>\n",
       "    <tr>\n",
       "      <th>233997</th>\n",
       "      <td>Zul is wellcome to join Perkasa as member only...</td>\n",
       "    </tr>\n",
       "    <tr>\n",
       "      <th>233998</th>\n",
       "      <td>ASU increased its graduate enrollment by only ...</td>\n",
       "    </tr>\n",
       "    <tr>\n",
       "      <th>233999</th>\n",
       "      <td>We received death threats earlier, but not now...</td>\n",
       "    </tr>\n",
       "  </tbody>\n",
       "</table>\n",
       "</div>"
      ],
      "text/plain": [
       "                                                 sentence\n",
       "233995  Zardari refuses to answer questions from polit...\n",
       "233996  Zion Kim, 17, of River Edge said the group spe...\n",
       "233997  Zul is wellcome to join Perkasa as member only...\n",
       "233998  ASU increased its graduate enrollment by only ...\n",
       "233999  We received death threats earlier, but not now..."
      ]
     },
     "execution_count": 4,
     "metadata": {},
     "output_type": "execute_result"
    }
   ],
   "source": [
    "df.columns = ['sentence']\n",
    "df.tail()"
   ]
  },
  {
   "cell_type": "markdown",
   "metadata": {},
   "source": [
    "# We are training on 1000 samples out of 233k samples available to us, to try out first"
   ]
  },
  {
   "cell_type": "code",
   "execution_count": 5,
   "metadata": {
    "collapsed": false
   },
   "outputs": [],
   "source": [
    "df = df.iloc[np.random.permutation(len(df))]\n",
    "df = df[0:1000] # subsample from data"
   ]
  },
  {
   "cell_type": "code",
   "execution_count": 6,
   "metadata": {
    "collapsed": false
   },
   "outputs": [],
   "source": [
    "s=df['sentence'].str.lower()"
   ]
  },
  {
   "cell_type": "code",
   "execution_count": 7,
   "metadata": {
    "collapsed": false
   },
   "outputs": [],
   "source": [
    "dfnew = df.join(s.apply(lambda x: pd.Series(x.split('\\t'))))"
   ]
  },
  {
   "cell_type": "code",
   "execution_count": 8,
   "metadata": {
    "collapsed": false
   },
   "outputs": [],
   "source": [
    "s = dfnew['sentence']\n",
    "s = s.map(lambda x: str(x)[0:500])"
   ]
  },
  {
   "cell_type": "code",
   "execution_count": 9,
   "metadata": {
    "collapsed": false
   },
   "outputs": [],
   "source": [
    "dfnew.pop(0)\n",
    "dfnew['sentence']=s\n",
    "dfnew.columns=['sentence','group','lang']"
   ]
  },
  {
   "cell_type": "code",
   "execution_count": 10,
   "metadata": {
    "collapsed": false
   },
   "outputs": [
    {
     "data": {
      "text/html": [
       "<div>\n",
       "<table border=\"1\" class=\"dataframe\">\n",
       "  <thead>\n",
       "    <tr style=\"text-align: right;\">\n",
       "      <th></th>\n",
       "      <th>sentence</th>\n",
       "      <th>group</th>\n",
       "      <th>lang</th>\n",
       "    </tr>\n",
       "  </thead>\n",
       "  <tbody>\n",
       "    <tr>\n",
       "      <th>60191</th>\n",
       "      <td>Jika dikombinasikan, trio Wade-Bosh-James mamp...</td>\n",
       "      <td>b</td>\n",
       "      <td>id</td>\n",
       "    </tr>\n",
       "    <tr>\n",
       "      <th>41147</th>\n",
       "      <td>Konferencija je bila usredsređena na komercija...</td>\n",
       "      <td>a</td>\n",
       "      <td>sr</td>\n",
       "    </tr>\n",
       "    <tr>\n",
       "      <th>147619</th>\n",
       "      <td>A tarifa da água para os munícipes da Póvoa de...</td>\n",
       "      <td>d</td>\n",
       "      <td>pt-pt</td>\n",
       "    </tr>\n",
       "    <tr>\n",
       "      <th>69768</th>\n",
       "      <td>SERAMBINEWS.COM - Salah besar jika Anda mengan...</td>\n",
       "      <td>b</td>\n",
       "      <td>id</td>\n",
       "    </tr>\n",
       "    <tr>\n",
       "      <th>218768</th>\n",
       "      <td>And, for it time, it worked  for the Tigers, w...</td>\n",
       "      <td>f</td>\n",
       "      <td>en-us</td>\n",
       "    </tr>\n",
       "  </tbody>\n",
       "</table>\n",
       "</div>"
      ],
      "text/plain": [
       "                                                 sentence group   lang\n",
       "60191   Jika dikombinasikan, trio Wade-Bosh-James mamp...     b     id\n",
       "41147   Konferencija je bila usredsređena na komercija...     a     sr\n",
       "147619  A tarifa da água para os munícipes da Póvoa de...     d  pt-pt\n",
       "69768   SERAMBINEWS.COM - Salah besar jika Anda mengan...     b     id\n",
       "218768  And, for it time, it worked  for the Tigers, w...     f  en-us"
      ]
     },
     "execution_count": 10,
     "metadata": {},
     "output_type": "execute_result"
    }
   ],
   "source": [
    "dfnew.tail()"
   ]
  },
  {
   "cell_type": "code",
   "execution_count": 11,
   "metadata": {
    "collapsed": false
   },
   "outputs": [
    {
     "data": {
      "text/plain": [
       "['sk',\n",
       " 'hr',\n",
       " 'pt-br',\n",
       " 'sr',\n",
       " 'pt-pt',\n",
       " 'en-us',\n",
       " 'bs',\n",
       " 'id',\n",
       " 'en-gb',\n",
       " 'my',\n",
       " 'es-es',\n",
       " 'cz',\n",
       " 'es-ar']"
      ]
     },
     "execution_count": 11,
     "metadata": {},
     "output_type": "execute_result"
    }
   ],
   "source": [
    "from sklearn.preprocessing import LabelEncoder\n",
    "unique_classes  = list(set(dfnew['lang']))\n",
    "unique_classes"
   ]
  },
  {
   "cell_type": "code",
   "execution_count": 12,
   "metadata": {
    "collapsed": false
   },
   "outputs": [],
   "source": [
    "le = LabelEncoder()\n",
    "le.fit(unique_classes)\n",
    "dfnew['lang_category'] = le.transform(dfnew['lang'])"
   ]
  },
  {
   "cell_type": "code",
   "execution_count": 13,
   "metadata": {
    "collapsed": true
   },
   "outputs": [],
   "source": [
    "dfnew['sentence_length'] = dfnew['sentence'].str.len()"
   ]
  },
  {
   "cell_type": "code",
   "execution_count": 14,
   "metadata": {
    "collapsed": false
   },
   "outputs": [
    {
     "data": {
      "text/html": [
       "<div>\n",
       "<table border=\"1\" class=\"dataframe\">\n",
       "  <thead>\n",
       "    <tr style=\"text-align: right;\">\n",
       "      <th></th>\n",
       "      <th>sentence</th>\n",
       "      <th>group</th>\n",
       "      <th>lang</th>\n",
       "      <th>lang_category</th>\n",
       "      <th>sentence_length</th>\n",
       "    </tr>\n",
       "  </thead>\n",
       "  <tbody>\n",
       "    <tr>\n",
       "      <th>60191</th>\n",
       "      <td>Jika dikombinasikan, trio Wade-Bosh-James mamp...</td>\n",
       "      <td>b</td>\n",
       "      <td>id</td>\n",
       "      <td>7</td>\n",
       "      <td>273</td>\n",
       "    </tr>\n",
       "    <tr>\n",
       "      <th>41147</th>\n",
       "      <td>Konferencija je bila usredsređena na komercija...</td>\n",
       "      <td>a</td>\n",
       "      <td>sr</td>\n",
       "      <td>12</td>\n",
       "      <td>204</td>\n",
       "    </tr>\n",
       "    <tr>\n",
       "      <th>147619</th>\n",
       "      <td>A tarifa da água para os munícipes da Póvoa de...</td>\n",
       "      <td>d</td>\n",
       "      <td>pt-pt</td>\n",
       "      <td>10</td>\n",
       "      <td>165</td>\n",
       "    </tr>\n",
       "    <tr>\n",
       "      <th>69768</th>\n",
       "      <td>SERAMBINEWS.COM - Salah besar jika Anda mengan...</td>\n",
       "      <td>b</td>\n",
       "      <td>id</td>\n",
       "      <td>7</td>\n",
       "      <td>400</td>\n",
       "    </tr>\n",
       "    <tr>\n",
       "      <th>218768</th>\n",
       "      <td>And, for it time, it worked  for the Tigers, w...</td>\n",
       "      <td>f</td>\n",
       "      <td>en-us</td>\n",
       "      <td>3</td>\n",
       "      <td>130</td>\n",
       "    </tr>\n",
       "  </tbody>\n",
       "</table>\n",
       "</div>"
      ],
      "text/plain": [
       "                                                 sentence group   lang  \\\n",
       "60191   Jika dikombinasikan, trio Wade-Bosh-James mamp...     b     id   \n",
       "41147   Konferencija je bila usredsređena na komercija...     a     sr   \n",
       "147619  A tarifa da água para os munícipes da Póvoa de...     d  pt-pt   \n",
       "69768   SERAMBINEWS.COM - Salah besar jika Anda mengan...     b     id   \n",
       "218768  And, for it time, it worked  for the Tigers, w...     f  en-us   \n",
       "\n",
       "        lang_category  sentence_length  \n",
       "60191               7              273  \n",
       "41147              12              204  \n",
       "147619             10              165  \n",
       "69768               7              400  \n",
       "218768              3              130  "
      ]
     },
     "execution_count": 14,
     "metadata": {},
     "output_type": "execute_result"
    }
   ],
   "source": [
    "dfnew.tail()"
   ]
  },
  {
   "cell_type": "code",
   "execution_count": 15,
   "metadata": {
    "collapsed": false
   },
   "outputs": [
    {
     "data": {
      "text/plain": [
       "500"
      ]
     },
     "execution_count": 15,
     "metadata": {},
     "output_type": "execute_result"
    }
   ],
   "source": [
    "dfnew['sentence_length'].max()"
   ]
  },
  {
   "cell_type": "code",
   "execution_count": 16,
   "metadata": {
    "collapsed": true
   },
   "outputs": [],
   "source": [
    "train_size = int(0.7*len(dfnew)) # 70% of all data is for training\n",
    "x_train = dfnew['sentence'][:train_size]\n",
    "x_test = dfnew['sentence'][train_size+1:]\n",
    "y_train = dfnew['lang_category'][:train_size]\n",
    "y_test = dfnew['lang_category'][train_size+1:]\n",
    "assert(len(x_train)==len(y_train)) \n",
    "assert(len(x_test)==len(y_test)) "
   ]
  },
  {
   "cell_type": "markdown",
   "metadata": {},
   "source": [
    "# Part 2: Train a classification model"
   ]
  },
  {
   "cell_type": "code",
   "execution_count": 17,
   "metadata": {
    "collapsed": true
   },
   "outputs": [],
   "source": [
    "from sklearn import metrics\n",
    "\n",
    "import tensorflow as tf\n",
    "from tensorflow.contrib import learn"
   ]
  },
  {
   "cell_type": "code",
   "execution_count": 18,
   "metadata": {
    "collapsed": true
   },
   "outputs": [],
   "source": [
    "MAX_DOCUMENT_LENGTH = 500\n",
    "HIDDEN_SIZE = 20\n",
    "\n",
    "\n",
    "def char_rnn_model(x, y):\n",
    "    \"\"\"Character level recurrent neural network model to predict classes.\"\"\"\n",
    "    y = tf.one_hot(y, len(unique_classes), 1, 0)\n",
    "    byte_list = learn.ops.one_hot_matrix(x, 256)\n",
    "    byte_list = tf.unpack(byte_list, axis=1)\n",
    "\n",
    "    cell = tf.nn.rnn_cell.GRUCell(HIDDEN_SIZE)\n",
    "    _, encoding = tf.nn.rnn(cell, byte_list, dtype=tf.float32)\n",
    "\n",
    "    prediction, loss = learn.models.logistic_regression(encoding, y)\n",
    "\n",
    "    train_op = tf.contrib.layers.optimize_loss(\n",
    "      loss, tf.contrib.framework.get_global_step(),\n",
    "      optimizer='Adam', learning_rate=0.01)\n",
    "\n",
    "    return {'class': tf.argmax(prediction, 1), 'prob': prediction}, loss, train_op"
   ]
  },
  {
   "cell_type": "code",
   "execution_count": 19,
   "metadata": {
    "collapsed": false
   },
   "outputs": [],
   "source": [
    "# Process vocabulary\n",
    "char_processor = learn.preprocessing.ByteProcessor(MAX_DOCUMENT_LENGTH)\n",
    "x_train_array = np.array(list(char_processor.fit_transform(x_train)))\n",
    "x_test_array = np.array(list(char_processor.transform(x_test)))"
   ]
  },
  {
   "cell_type": "code",
   "execution_count": 20,
   "metadata": {
    "collapsed": false
   },
   "outputs": [
    {
     "name": "stderr",
     "output_type": "stream",
     "text": [
      "WARNING:tensorflow:Using temporary folder as model directory: /tmp/tmplgx0tzxg\n",
      "WARNING:tensorflow:Using default config.\n"
     ]
    }
   ],
   "source": [
    "# Build model\n",
    "classifier = learn.Estimator(model_fn=char_rnn_model)"
   ]
  },
  {
   "cell_type": "code",
   "execution_count": 21,
   "metadata": {
    "collapsed": false
   },
   "outputs": [],
   "source": [
    "# Train and predict\n",
    "classifier.fit(x_train_array, y_train, steps=100)\n",
    "y_predicted = [\n",
    "  p['class'] for p in classifier.predict(x_test_array, as_iterable=True)]\n",
    "score = metrics.accuracy_score(y_test, y_predicted)"
   ]
  },
  {
   "cell_type": "markdown",
   "metadata": {},
   "source": [
    "# Performance metrics"
   ]
  },
  {
   "cell_type": "code",
   "execution_count": 22,
   "metadata": {
    "collapsed": false
   },
   "outputs": [
    {
     "data": {
      "text/plain": [
       "0.45819397993311034"
      ]
     },
     "execution_count": 22,
     "metadata": {},
     "output_type": "execute_result"
    }
   ],
   "source": [
    "score"
   ]
  },
  {
   "cell_type": "code",
   "execution_count": 24,
   "metadata": {
    "collapsed": false
   },
   "outputs": [
    {
     "data": {
      "text/html": [
       "<div>\n",
       "<table border=\"1\" class=\"dataframe\">\n",
       "  <thead>\n",
       "    <tr style=\"text-align: right;\">\n",
       "      <th></th>\n",
       "      <th>sk</th>\n",
       "      <th>hr</th>\n",
       "      <th>pt-br</th>\n",
       "      <th>sr</th>\n",
       "      <th>pt-pt</th>\n",
       "      <th>en-us</th>\n",
       "      <th>bs</th>\n",
       "      <th>id</th>\n",
       "      <th>en-gb</th>\n",
       "      <th>my</th>\n",
       "      <th>es-es</th>\n",
       "      <th>cz</th>\n",
       "      <th>es-ar</th>\n",
       "    </tr>\n",
       "  </thead>\n",
       "  <tbody>\n",
       "    <tr>\n",
       "      <th>sk</th>\n",
       "      <td>0</td>\n",
       "      <td>0</td>\n",
       "      <td>0</td>\n",
       "      <td>1</td>\n",
       "      <td>0</td>\n",
       "      <td>0</td>\n",
       "      <td>0</td>\n",
       "      <td>0</td>\n",
       "      <td>0</td>\n",
       "      <td>0</td>\n",
       "      <td>0</td>\n",
       "      <td>0</td>\n",
       "      <td>19</td>\n",
       "    </tr>\n",
       "    <tr>\n",
       "      <th>hr</th>\n",
       "      <td>0</td>\n",
       "      <td>12</td>\n",
       "      <td>0</td>\n",
       "      <td>0</td>\n",
       "      <td>0</td>\n",
       "      <td>2</td>\n",
       "      <td>0</td>\n",
       "      <td>0</td>\n",
       "      <td>0</td>\n",
       "      <td>0</td>\n",
       "      <td>0</td>\n",
       "      <td>8</td>\n",
       "      <td>0</td>\n",
       "    </tr>\n",
       "    <tr>\n",
       "      <th>pt-br</th>\n",
       "      <td>0</td>\n",
       "      <td>0</td>\n",
       "      <td>5</td>\n",
       "      <td>0</td>\n",
       "      <td>0</td>\n",
       "      <td>0</td>\n",
       "      <td>0</td>\n",
       "      <td>0</td>\n",
       "      <td>0</td>\n",
       "      <td>0</td>\n",
       "      <td>0</td>\n",
       "      <td>0</td>\n",
       "      <td>22</td>\n",
       "    </tr>\n",
       "    <tr>\n",
       "      <th>sr</th>\n",
       "      <td>0</td>\n",
       "      <td>0</td>\n",
       "      <td>0</td>\n",
       "      <td>24</td>\n",
       "      <td>0</td>\n",
       "      <td>1</td>\n",
       "      <td>0</td>\n",
       "      <td>0</td>\n",
       "      <td>0</td>\n",
       "      <td>0</td>\n",
       "      <td>0</td>\n",
       "      <td>0</td>\n",
       "      <td>0</td>\n",
       "    </tr>\n",
       "    <tr>\n",
       "      <th>pt-pt</th>\n",
       "      <td>0</td>\n",
       "      <td>0</td>\n",
       "      <td>0</td>\n",
       "      <td>0</td>\n",
       "      <td>26</td>\n",
       "      <td>1</td>\n",
       "      <td>0</td>\n",
       "      <td>0</td>\n",
       "      <td>0</td>\n",
       "      <td>0</td>\n",
       "      <td>0</td>\n",
       "      <td>0</td>\n",
       "      <td>0</td>\n",
       "    </tr>\n",
       "    <tr>\n",
       "      <th>en-us</th>\n",
       "      <td>0</td>\n",
       "      <td>0</td>\n",
       "      <td>0</td>\n",
       "      <td>0</td>\n",
       "      <td>0</td>\n",
       "      <td>22</td>\n",
       "      <td>0</td>\n",
       "      <td>0</td>\n",
       "      <td>0</td>\n",
       "      <td>0</td>\n",
       "      <td>0</td>\n",
       "      <td>0</td>\n",
       "      <td>0</td>\n",
       "    </tr>\n",
       "    <tr>\n",
       "      <th>bs</th>\n",
       "      <td>0</td>\n",
       "      <td>0</td>\n",
       "      <td>0</td>\n",
       "      <td>0</td>\n",
       "      <td>0</td>\n",
       "      <td>0</td>\n",
       "      <td>0</td>\n",
       "      <td>0</td>\n",
       "      <td>0</td>\n",
       "      <td>0</td>\n",
       "      <td>0</td>\n",
       "      <td>0</td>\n",
       "      <td>25</td>\n",
       "    </tr>\n",
       "    <tr>\n",
       "      <th>id</th>\n",
       "      <td>0</td>\n",
       "      <td>0</td>\n",
       "      <td>0</td>\n",
       "      <td>1</td>\n",
       "      <td>6</td>\n",
       "      <td>0</td>\n",
       "      <td>0</td>\n",
       "      <td>20</td>\n",
       "      <td>0</td>\n",
       "      <td>0</td>\n",
       "      <td>0</td>\n",
       "      <td>1</td>\n",
       "      <td>0</td>\n",
       "    </tr>\n",
       "    <tr>\n",
       "      <th>en-gb</th>\n",
       "      <td>0</td>\n",
       "      <td>0</td>\n",
       "      <td>0</td>\n",
       "      <td>0</td>\n",
       "      <td>0</td>\n",
       "      <td>0</td>\n",
       "      <td>0</td>\n",
       "      <td>0</td>\n",
       "      <td>0</td>\n",
       "      <td>0</td>\n",
       "      <td>0</td>\n",
       "      <td>0</td>\n",
       "      <td>22</td>\n",
       "    </tr>\n",
       "    <tr>\n",
       "      <th>my</th>\n",
       "      <td>0</td>\n",
       "      <td>0</td>\n",
       "      <td>0</td>\n",
       "      <td>0</td>\n",
       "      <td>1</td>\n",
       "      <td>21</td>\n",
       "      <td>0</td>\n",
       "      <td>0</td>\n",
       "      <td>0</td>\n",
       "      <td>0</td>\n",
       "      <td>1</td>\n",
       "      <td>0</td>\n",
       "      <td>0</td>\n",
       "    </tr>\n",
       "    <tr>\n",
       "      <th>es-es</th>\n",
       "      <td>0</td>\n",
       "      <td>0</td>\n",
       "      <td>0</td>\n",
       "      <td>0</td>\n",
       "      <td>0</td>\n",
       "      <td>23</td>\n",
       "      <td>0</td>\n",
       "      <td>0</td>\n",
       "      <td>0</td>\n",
       "      <td>0</td>\n",
       "      <td>0</td>\n",
       "      <td>0</td>\n",
       "      <td>0</td>\n",
       "    </tr>\n",
       "    <tr>\n",
       "      <th>cz</th>\n",
       "      <td>0</td>\n",
       "      <td>4</td>\n",
       "      <td>0</td>\n",
       "      <td>0</td>\n",
       "      <td>0</td>\n",
       "      <td>0</td>\n",
       "      <td>0</td>\n",
       "      <td>0</td>\n",
       "      <td>0</td>\n",
       "      <td>0</td>\n",
       "      <td>0</td>\n",
       "      <td>9</td>\n",
       "      <td>0</td>\n",
       "    </tr>\n",
       "    <tr>\n",
       "      <th>es-ar</th>\n",
       "      <td>0</td>\n",
       "      <td>0</td>\n",
       "      <td>0</td>\n",
       "      <td>3</td>\n",
       "      <td>0</td>\n",
       "      <td>0</td>\n",
       "      <td>0</td>\n",
       "      <td>0</td>\n",
       "      <td>0</td>\n",
       "      <td>0</td>\n",
       "      <td>0</td>\n",
       "      <td>0</td>\n",
       "      <td>19</td>\n",
       "    </tr>\n",
       "  </tbody>\n",
       "</table>\n",
       "</div>"
      ],
      "text/plain": [
       "       sk  hr  pt-br  sr  pt-pt  en-us  bs  id  en-gb  my  es-es  cz  es-ar\n",
       "sk      0   0      0   1      0      0   0   0      0   0      0   0     19\n",
       "hr      0  12      0   0      0      2   0   0      0   0      0   8      0\n",
       "pt-br   0   0      5   0      0      0   0   0      0   0      0   0     22\n",
       "sr      0   0      0  24      0      1   0   0      0   0      0   0      0\n",
       "pt-pt   0   0      0   0     26      1   0   0      0   0      0   0      0\n",
       "en-us   0   0      0   0      0     22   0   0      0   0      0   0      0\n",
       "bs      0   0      0   0      0      0   0   0      0   0      0   0     25\n",
       "id      0   0      0   1      6      0   0  20      0   0      0   1      0\n",
       "en-gb   0   0      0   0      0      0   0   0      0   0      0   0     22\n",
       "my      0   0      0   0      1     21   0   0      0   0      1   0      0\n",
       "es-es   0   0      0   0      0     23   0   0      0   0      0   0      0\n",
       "cz      0   4      0   0      0      0   0   0      0   0      0   9      0\n",
       "es-ar   0   0      0   3      0      0   0   0      0   0      0   0     19"
      ]
     },
     "execution_count": 24,
     "metadata": {},
     "output_type": "execute_result"
    }
   ],
   "source": [
    "confusion_mat = metrics.confusion_matrix(list(y_test), y_predicted) \n",
    "confusion_mat = pd.DataFrame(confusion_mat, columns = unique_classes, index = unique_classes)\n",
    "confusion_mat"
   ]
  },
  {
   "cell_type": "code",
   "execution_count": 25,
   "metadata": {
    "collapsed": false
   },
   "outputs": [
    {
     "data": {
      "text/plain": [
       "<matplotlib.axes._subplots.AxesSubplot at 0x7f205cc99be0>"
      ]
     },
     "execution_count": 25,
     "metadata": {},
     "output_type": "execute_result"
    },
    {
     "data": {
      "image/png": "[encoded data removed]",
      "text/plain": [
       "<matplotlib.figure.Figure at 0x7f20636fb160>"
      ]
     },
     "metadata": {},
     "output_type": "display_data"
    }
   ],
   "source": [
    "sns.heatmap(confusion_mat)"
   ]
  },
  {
   "cell_type": "code",
   "execution_count": 26,
   "metadata": {
    "collapsed": false
   },
   "outputs": [
    {
     "name": "stdout",
     "output_type": "stream",
     "text": [
      "             precision    recall  f1-score   support\n",
      "\n",
      "         sk       0.00      0.00      0.00        20\n",
      "         hr       0.75      0.55      0.63        22\n",
      "      pt-br       1.00      0.19      0.31        27\n",
      "         sr       0.83      0.96      0.89        25\n",
      "      pt-pt       0.79      0.96      0.87        27\n",
      "      en-us       0.31      1.00      0.48        22\n",
      "         bs       0.00      0.00      0.00        25\n",
      "         id       1.00      0.71      0.83        28\n",
      "      en-gb       0.00      0.00      0.00        22\n",
      "         my       0.00      0.00      0.00        23\n",
      "      es-es       0.00      0.00      0.00        23\n",
      "         cz       0.50      0.69      0.58        13\n",
      "      es-ar       0.18      0.86      0.29        22\n",
      "\n",
      "avg / total       0.44      0.46      0.39       299\n",
      "\n"
     ]
    },
    {
     "name": "stderr",
     "output_type": "stream",
     "text": [
      "/home/sarosh/anaconda3/envs/tensorflow/lib/python3.5/site-packages/sklearn/metrics/classification.py:1074: UndefinedMetricWarning: Precision and F-score are ill-defined and being set to 0.0 in labels with no predicted samples.\n",
      "  'precision', 'predicted', average, warn_for)\n"
     ]
    }
   ],
   "source": [
    "print(metrics.classification_report(list(y_test), y_predicted, target_names=unique_classes))"
   ]
  },
  {
   "cell_type": "markdown",
   "metadata": {},
   "source": [
    "# Visualizing results"
   ]
  },
  {
   "cell_type": "code",
   "execution_count": 32,
   "metadata": {
    "collapsed": true
   },
   "outputs": [],
   "source": [
    "x_test = x_test.reset_index(drop=True)\n",
    "y_test = y_test.reset_index(drop=True)\n",
    "y_pred_df = pd.Series(list(le.inverse_transform(list(y_predicted))))\n",
    "y_test = pd.Series(list(le.inverse_transform(list(y_test))))"
   ]
  },
  {
   "cell_type": "code",
   "execution_count": 33,
   "metadata": {
    "collapsed": false
   },
   "outputs": [
    {
     "data": {
      "text/html": [
       "<div>\n",
       "<table border=\"1\" class=\"dataframe\">\n",
       "  <thead>\n",
       "    <tr style=\"text-align: right;\">\n",
       "      <th></th>\n",
       "      <th>sentence</th>\n",
       "      <th>ground_truth</th>\n",
       "      <th>prediction</th>\n",
       "    </tr>\n",
       "  </thead>\n",
       "  <tbody>\n",
       "    <tr>\n",
       "      <th>0</th>\n",
       "      <td>\"A indústria está sofrendo um ataque de produt...</td>\n",
       "      <td>pt-br</td>\n",
       "      <td>pt-pt</td>\n",
       "    </tr>\n",
       "    <tr>\n",
       "      <th>1</th>\n",
       "      <td>Curtis Edward McCarty, who was twice convicted...</td>\n",
       "      <td>en-us</td>\n",
       "      <td>en-us</td>\n",
       "    </tr>\n",
       "    <tr>\n",
       "      <th>2</th>\n",
       "      <td>Robi Draco nació en Nueva York el 27 de junio ...</td>\n",
       "      <td>es-ar</td>\n",
       "      <td>es-ar</td>\n",
       "    </tr>\n",
       "    <tr>\n",
       "      <th>3</th>\n",
       "      <td>Ana Jorge lembrou ainda que, na maioria dos ca...</td>\n",
       "      <td>pt-pt</td>\n",
       "      <td>es-es</td>\n",
       "    </tr>\n",
       "    <tr>\n",
       "      <th>4</th>\n",
       "      <td>A observação é de interesse não só para astrôn...</td>\n",
       "      <td>pt-br</td>\n",
       "      <td>es-es</td>\n",
       "    </tr>\n",
       "  </tbody>\n",
       "</table>\n",
       "</div>"
      ],
      "text/plain": [
       "                                            sentence ground_truth prediction\n",
       "0  \"A indústria está sofrendo um ataque de produt...        pt-br      pt-pt\n",
       "1  Curtis Edward McCarty, who was twice convicted...        en-us      en-us\n",
       "2  Robi Draco nació en Nueva York el 27 de junio ...        es-ar      es-ar\n",
       "3  Ana Jorge lembrou ainda que, na maioria dos ca...        pt-pt      es-es\n",
       "4  A observação é de interesse não só para astrôn...        pt-br      es-es"
      ]
     },
     "execution_count": 33,
     "metadata": {},
     "output_type": "execute_result"
    }
   ],
   "source": [
    "df_result = pd.concat([x_test,y_test,y_pred_df],axis=1)\n",
    "df_result.columns =  ['sentence','ground_truth','prediction']\n",
    "df_result.head()\n"
   ]
  },
  {
   "cell_type": "markdown",
   "metadata": {},
   "source": [
    "# Common Errors"
   ]
  },
  {
   "cell_type": "code",
   "execution_count": 35,
   "metadata": {
    "collapsed": false
   },
   "outputs": [
    {
     "data": {
      "text/html": [
       "<div>\n",
       "<table border=\"1\" class=\"dataframe\">\n",
       "  <thead>\n",
       "    <tr style=\"text-align: right;\">\n",
       "      <th></th>\n",
       "      <th>sentence</th>\n",
       "      <th>ground_truth</th>\n",
       "      <th>prediction</th>\n",
       "    </tr>\n",
       "  </thead>\n",
       "  <tbody>\n",
       "    <tr>\n",
       "      <th>0</th>\n",
       "      <td>\"A indústria está sofrendo um ataque de produt...</td>\n",
       "      <td>pt-br</td>\n",
       "      <td>pt-pt</td>\n",
       "    </tr>\n",
       "    <tr>\n",
       "      <th>3</th>\n",
       "      <td>Ana Jorge lembrou ainda que, na maioria dos ca...</td>\n",
       "      <td>pt-pt</td>\n",
       "      <td>es-es</td>\n",
       "    </tr>\n",
       "    <tr>\n",
       "      <th>4</th>\n",
       "      <td>A observação é de interesse não só para astrôn...</td>\n",
       "      <td>pt-br</td>\n",
       "      <td>es-es</td>\n",
       "    </tr>\n",
       "    <tr>\n",
       "      <th>5</th>\n",
       "      <td>Ornam as paredes de seu gabinete retratos e pi...</td>\n",
       "      <td>pt-br</td>\n",
       "      <td>es-es</td>\n",
       "    </tr>\n",
       "    <tr>\n",
       "      <th>7</th>\n",
       "      <td>\"Ainda é muito cedo, mas talvez tenhamos uma q...</td>\n",
       "      <td>pt-br</td>\n",
       "      <td>es-es</td>\n",
       "    </tr>\n",
       "    <tr>\n",
       "      <th>9</th>\n",
       "      <td>Apesar de afirmar que Sarney não pediu uma con...</td>\n",
       "      <td>pt-br</td>\n",
       "      <td>es-es</td>\n",
       "    </tr>\n",
       "    <tr>\n",
       "      <th>11</th>\n",
       "      <td>REPUBLIKA.CO.ID,JAKARTA--Bupati Buol, Sulawesi...</td>\n",
       "      <td>id</td>\n",
       "      <td>es-ar</td>\n",
       "    </tr>\n",
       "    <tr>\n",
       "      <th>13</th>\n",
       "      <td>\"As câmaras de Faro e Loulé já transmitiram, p...</td>\n",
       "      <td>pt-pt</td>\n",
       "      <td>es-es</td>\n",
       "    </tr>\n",
       "    <tr>\n",
       "      <th>14</th>\n",
       "      <td>O presidente do Conselho Executivo da 'Gonçalv...</td>\n",
       "      <td>pt-pt</td>\n",
       "      <td>es-es</td>\n",
       "    </tr>\n",
       "    <tr>\n",
       "      <th>15</th>\n",
       "      <td>Interpol, organizacija sa sjedištem u Francusk...</td>\n",
       "      <td>hr</td>\n",
       "      <td>sr</td>\n",
       "    </tr>\n",
       "    <tr>\n",
       "      <th>20</th>\n",
       "      <td>Albanska vlada dodijelila je britansko-švicars...</td>\n",
       "      <td>hr</td>\n",
       "      <td>sr</td>\n",
       "    </tr>\n",
       "    <tr>\n",
       "      <th>23</th>\n",
       "      <td>'Dan orang-orang yang berhijrah pada jalan All...</td>\n",
       "      <td>my</td>\n",
       "      <td>sr</td>\n",
       "    </tr>\n",
       "    <tr>\n",
       "      <th>24</th>\n",
       "      <td>Rozhodujúci je výkon motora, ktorý určuje, akú...</td>\n",
       "      <td>sk</td>\n",
       "      <td>cz</td>\n",
       "    </tr>\n",
       "    <tr>\n",
       "      <th>26</th>\n",
       "      <td>Malah beliau diberitahu bahawa pembersihan par...</td>\n",
       "      <td>my</td>\n",
       "      <td>sr</td>\n",
       "    </tr>\n",
       "    <tr>\n",
       "      <th>29</th>\n",
       "      <td>Arts &amp; Sciences graduate student Jessica Silve...</td>\n",
       "      <td>en-gb</td>\n",
       "      <td>sr</td>\n",
       "    </tr>\n",
       "    <tr>\n",
       "      <th>30</th>\n",
       "      <td>Resipi penting kejayaan selama 35 tahun dalam ...</td>\n",
       "      <td>my</td>\n",
       "      <td>sr</td>\n",
       "    </tr>\n",
       "    <tr>\n",
       "      <th>31</th>\n",
       "      <td>Mungkin ramai yang tidak setuju dengan pandang...</td>\n",
       "      <td>my</td>\n",
       "      <td>sr</td>\n",
       "    </tr>\n",
       "    <tr>\n",
       "      <th>34</th>\n",
       "      <td>Daniel Aulita, 58, said Monday that the Toront...</td>\n",
       "      <td>en-gb</td>\n",
       "      <td>sr</td>\n",
       "    </tr>\n",
       "    <tr>\n",
       "      <th>35</th>\n",
       "      <td>A desesperada tentativa do jornal de tentar cr...</td>\n",
       "      <td>pt-pt</td>\n",
       "      <td>es-es</td>\n",
       "    </tr>\n",
       "    <tr>\n",
       "      <th>37</th>\n",
       "      <td>Vlada je pala zato što parlamentarci nisu htje...</td>\n",
       "      <td>bs</td>\n",
       "      <td>sr</td>\n",
       "    </tr>\n",
       "    <tr>\n",
       "      <th>39</th>\n",
       "      <td>Ketua Polis Daerah Raub Supt Wan Mohd Samsuddi...</td>\n",
       "      <td>my</td>\n",
       "      <td>sr</td>\n",
       "    </tr>\n",
       "    <tr>\n",
       "      <th>40</th>\n",
       "      <td>Rumunjska je odabrala film \"Policajac: Pridjev...</td>\n",
       "      <td>hr</td>\n",
       "      <td>sr</td>\n",
       "    </tr>\n",
       "    <tr>\n",
       "      <th>42</th>\n",
       "      <td>Pergerakan penerbangan pula meningkat 7.2 pera...</td>\n",
       "      <td>my</td>\n",
       "      <td>sr</td>\n",
       "    </tr>\n",
       "    <tr>\n",
       "      <th>45</th>\n",
       "      <td>Izložba \"Myrtis: Licem u lice s prošlošću\" tem...</td>\n",
       "      <td>hr</td>\n",
       "      <td>sr</td>\n",
       "    </tr>\n",
       "    <tr>\n",
       "      <th>50</th>\n",
       "      <td>A family of modern day shepherds travel via Ph...</td>\n",
       "      <td>en-gb</td>\n",
       "      <td>sr</td>\n",
       "    </tr>\n",
       "    <tr>\n",
       "      <th>52</th>\n",
       "      <td>Složio se sa Solanom i Pattenom o potrebi sudj...</td>\n",
       "      <td>hr</td>\n",
       "      <td>sr</td>\n",
       "    </tr>\n",
       "    <tr>\n",
       "      <th>56</th>\n",
       "      <td>Opatření Raiffeisenbank je tak ukázkovým přípa...</td>\n",
       "      <td>cz</td>\n",
       "      <td>es-es</td>\n",
       "    </tr>\n",
       "    <tr>\n",
       "      <th>57</th>\n",
       "      <td>O trabalho e carreira de deputado suscitou a c...</td>\n",
       "      <td>pt-pt</td>\n",
       "      <td>es-es</td>\n",
       "    </tr>\n",
       "    <tr>\n",
       "      <th>58</th>\n",
       "      <td>Untuk rekod, Jabatan Penjara Negeri mempunyai ...</td>\n",
       "      <td>my</td>\n",
       "      <td>sr</td>\n",
       "    </tr>\n",
       "    <tr>\n",
       "      <th>59</th>\n",
       "      <td>Približno sedmicu dana prije Župljaninovog hap...</td>\n",
       "      <td>bs</td>\n",
       "      <td>sr</td>\n",
       "    </tr>\n",
       "    <tr>\n",
       "      <th>...</th>\n",
       "      <td>...</td>\n",
       "      <td>...</td>\n",
       "      <td>...</td>\n",
       "    </tr>\n",
       "    <tr>\n",
       "      <th>252</th>\n",
       "      <td>Pozdravljajući nedeljne «mirne, slobodne i poš...</td>\n",
       "      <td>sr</td>\n",
       "      <td>en-us</td>\n",
       "    </tr>\n",
       "    <tr>\n",
       "      <th>253</th>\n",
       "      <td>O Sistema de Produção Integrada no Brasil come...</td>\n",
       "      <td>pt-br</td>\n",
       "      <td>es-es</td>\n",
       "    </tr>\n",
       "    <tr>\n",
       "      <th>255</th>\n",
       "      <td>Niti jedan od osam standarda nije u cijelosti ...</td>\n",
       "      <td>hr</td>\n",
       "      <td>sr</td>\n",
       "    </tr>\n",
       "    <tr>\n",
       "      <th>256</th>\n",
       "      <td>Prilikom sastanka u gradu Iasi na istoku Rumun...</td>\n",
       "      <td>hr</td>\n",
       "      <td>sr</td>\n",
       "    </tr>\n",
       "    <tr>\n",
       "      <th>257</th>\n",
       "      <td>Segundo o biólogo e técnico em piscicultura da...</td>\n",
       "      <td>pt-br</td>\n",
       "      <td>es-es</td>\n",
       "    </tr>\n",
       "    <tr>\n",
       "      <th>258</th>\n",
       "      <td>Anyone interested in learning more about the B...</td>\n",
       "      <td>en-gb</td>\n",
       "      <td>sr</td>\n",
       "    </tr>\n",
       "    <tr>\n",
       "      <th>259</th>\n",
       "      <td>Programom se predviđa jačanje saradnje među un...</td>\n",
       "      <td>bs</td>\n",
       "      <td>sr</td>\n",
       "    </tr>\n",
       "    <tr>\n",
       "      <th>260</th>\n",
       "      <td>Alberico assentiu e saiu do estábulo para o pá...</td>\n",
       "      <td>pt-br</td>\n",
       "      <td>es-es</td>\n",
       "    </tr>\n",
       "    <tr>\n",
       "      <th>261</th>\n",
       "      <td>Petnaestog decembra, jednogodišnja misija EU N...</td>\n",
       "      <td>bs</td>\n",
       "      <td>sr</td>\n",
       "    </tr>\n",
       "    <tr>\n",
       "      <th>262</th>\n",
       "      <td>A proposta, prevista para ser apresentada em u...</td>\n",
       "      <td>pt-br</td>\n",
       "      <td>es-ar</td>\n",
       "    </tr>\n",
       "    <tr>\n",
       "      <th>263</th>\n",
       "      <td>\"Mi smatramo da će sazivanje takvog parlamenta...</td>\n",
       "      <td>bs</td>\n",
       "      <td>sr</td>\n",
       "    </tr>\n",
       "    <tr>\n",
       "      <th>264</th>\n",
       "      <td>\"Dok je 2008. godine gotovo dvije trećine (68 ...</td>\n",
       "      <td>hr</td>\n",
       "      <td>sr</td>\n",
       "    </tr>\n",
       "    <tr>\n",
       "      <th>267</th>\n",
       "      <td>\"We are on target for mobile certification for...</td>\n",
       "      <td>en-gb</td>\n",
       "      <td>sr</td>\n",
       "    </tr>\n",
       "    <tr>\n",
       "      <th>269</th>\n",
       "      <td>Češka Republika, Mađarska, Poljska i Slovačka,...</td>\n",
       "      <td>bs</td>\n",
       "      <td>sr</td>\n",
       "    </tr>\n",
       "    <tr>\n",
       "      <th>270</th>\n",
       "      <td>Hrvatski premijer Ivo Sanader kazao je u srije...</td>\n",
       "      <td>hr</td>\n",
       "      <td>sr</td>\n",
       "    </tr>\n",
       "    <tr>\n",
       "      <th>272</th>\n",
       "      <td>\"Eu não acredito. Duvido que a Dilma tenha con...</td>\n",
       "      <td>pt-br</td>\n",
       "      <td>es-es</td>\n",
       "    </tr>\n",
       "    <tr>\n",
       "      <th>273</th>\n",
       "      <td>V Praze žije téměř půl druhého milionu lidí, p...</td>\n",
       "      <td>cz</td>\n",
       "      <td>sk</td>\n",
       "    </tr>\n",
       "    <tr>\n",
       "      <th>276</th>\n",
       "      <td>Većina tih slučajeva uključuje krijumčarenje o...</td>\n",
       "      <td>hr</td>\n",
       "      <td>sr</td>\n",
       "    </tr>\n",
       "    <tr>\n",
       "      <th>278</th>\n",
       "      <td>Jika anda mahu memberikan sokongan, kehadiran ...</td>\n",
       "      <td>my</td>\n",
       "      <td>sr</td>\n",
       "    </tr>\n",
       "    <tr>\n",
       "      <th>279</th>\n",
       "      <td>Zápas sice tradičně strávil mezi náhradníky, a...</td>\n",
       "      <td>cz</td>\n",
       "      <td>sk</td>\n",
       "    </tr>\n",
       "    <tr>\n",
       "      <th>280</th>\n",
       "      <td>Još uvijek se mora riješiti ogroman broj detal...</td>\n",
       "      <td>bs</td>\n",
       "      <td>sr</td>\n",
       "    </tr>\n",
       "    <tr>\n",
       "      <th>282</th>\n",
       "      <td>Kazna mu je izrečena u listopadu prošle godine...</td>\n",
       "      <td>hr</td>\n",
       "      <td>sr</td>\n",
       "    </tr>\n",
       "    <tr>\n",
       "      <th>284</th>\n",
       "      <td>Charles coach Ben Owens said Fenemor had the g...</td>\n",
       "      <td>en-gb</td>\n",
       "      <td>sr</td>\n",
       "    </tr>\n",
       "    <tr>\n",
       "      <th>286</th>\n",
       "      <td>Jesus recusou a ideia de que a luta pela manut...</td>\n",
       "      <td>pt-pt</td>\n",
       "      <td>es-es</td>\n",
       "    </tr>\n",
       "    <tr>\n",
       "      <th>287</th>\n",
       "      <td>U Rumunjskoj je izbila politička rasprava oko ...</td>\n",
       "      <td>hr</td>\n",
       "      <td>sr</td>\n",
       "    </tr>\n",
       "    <tr>\n",
       "      <th>288</th>\n",
       "      <td>No jogo de atribuição do terceiro e quarto lug...</td>\n",
       "      <td>pt-pt</td>\n",
       "      <td>es-es</td>\n",
       "    </tr>\n",
       "    <tr>\n",
       "      <th>291</th>\n",
       "      <td>DNR director Doyle Childers has said the topog...</td>\n",
       "      <td>en-gb</td>\n",
       "      <td>sr</td>\n",
       "    </tr>\n",
       "    <tr>\n",
       "      <th>292</th>\n",
       "      <td>As far as I can tell, Blade of the Immortal wi...</td>\n",
       "      <td>en-gb</td>\n",
       "      <td>sr</td>\n",
       "    </tr>\n",
       "    <tr>\n",
       "      <th>296</th>\n",
       "      <td>A tarifa da água para os munícipes da Póvoa de...</td>\n",
       "      <td>pt-pt</td>\n",
       "      <td>es-es</td>\n",
       "    </tr>\n",
       "    <tr>\n",
       "      <th>297</th>\n",
       "      <td>SERAMBINEWS.COM - Salah besar jika Anda mengan...</td>\n",
       "      <td>id</td>\n",
       "      <td>es-ar</td>\n",
       "    </tr>\n",
       "  </tbody>\n",
       "</table>\n",
       "<p>162 rows × 3 columns</p>\n",
       "</div>"
      ],
      "text/plain": [
       "                                              sentence ground_truth prediction\n",
       "0    \"A indústria está sofrendo um ataque de produt...        pt-br      pt-pt\n",
       "3    Ana Jorge lembrou ainda que, na maioria dos ca...        pt-pt      es-es\n",
       "4    A observação é de interesse não só para astrôn...        pt-br      es-es\n",
       "5    Ornam as paredes de seu gabinete retratos e pi...        pt-br      es-es\n",
       "7    \"Ainda é muito cedo, mas talvez tenhamos uma q...        pt-br      es-es\n",
       "9    Apesar de afirmar que Sarney não pediu uma con...        pt-br      es-es\n",
       "11   REPUBLIKA.CO.ID,JAKARTA--Bupati Buol, Sulawesi...           id      es-ar\n",
       "13   \"As câmaras de Faro e Loulé já transmitiram, p...        pt-pt      es-es\n",
       "14   O presidente do Conselho Executivo da 'Gonçalv...        pt-pt      es-es\n",
       "15   Interpol, organizacija sa sjedištem u Francusk...           hr         sr\n",
       "20   Albanska vlada dodijelila je britansko-švicars...           hr         sr\n",
       "23   'Dan orang-orang yang berhijrah pada jalan All...           my         sr\n",
       "24   Rozhodujúci je výkon motora, ktorý určuje, akú...           sk         cz\n",
       "26   Malah beliau diberitahu bahawa pembersihan par...           my         sr\n",
       "29   Arts & Sciences graduate student Jessica Silve...        en-gb         sr\n",
       "30   Resipi penting kejayaan selama 35 tahun dalam ...           my         sr\n",
       "31   Mungkin ramai yang tidak setuju dengan pandang...           my         sr\n",
       "34   Daniel Aulita, 58, said Monday that the Toront...        en-gb         sr\n",
       "35   A desesperada tentativa do jornal de tentar cr...        pt-pt      es-es\n",
       "37   Vlada je pala zato što parlamentarci nisu htje...           bs         sr\n",
       "39   Ketua Polis Daerah Raub Supt Wan Mohd Samsuddi...           my         sr\n",
       "40   Rumunjska je odabrala film \"Policajac: Pridjev...           hr         sr\n",
       "42   Pergerakan penerbangan pula meningkat 7.2 pera...           my         sr\n",
       "45   Izložba \"Myrtis: Licem u lice s prošlošću\" tem...           hr         sr\n",
       "50   A family of modern day shepherds travel via Ph...        en-gb         sr\n",
       "52   Složio se sa Solanom i Pattenom o potrebi sudj...           hr         sr\n",
       "56   Opatření Raiffeisenbank je tak ukázkovým přípa...           cz      es-es\n",
       "57   O trabalho e carreira de deputado suscitou a c...        pt-pt      es-es\n",
       "58   Untuk rekod, Jabatan Penjara Negeri mempunyai ...           my         sr\n",
       "59   Približno sedmicu dana prije Župljaninovog hap...           bs         sr\n",
       "..                                                 ...          ...        ...\n",
       "252  Pozdravljajući nedeljne «mirne, slobodne i poš...           sr      en-us\n",
       "253  O Sistema de Produção Integrada no Brasil come...        pt-br      es-es\n",
       "255  Niti jedan od osam standarda nije u cijelosti ...           hr         sr\n",
       "256  Prilikom sastanka u gradu Iasi na istoku Rumun...           hr         sr\n",
       "257  Segundo o biólogo e técnico em piscicultura da...        pt-br      es-es\n",
       "258  Anyone interested in learning more about the B...        en-gb         sr\n",
       "259  Programom se predviđa jačanje saradnje među un...           bs         sr\n",
       "260  Alberico assentiu e saiu do estábulo para o pá...        pt-br      es-es\n",
       "261  Petnaestog decembra, jednogodišnja misija EU N...           bs         sr\n",
       "262  A proposta, prevista para ser apresentada em u...        pt-br      es-ar\n",
       "263  \"Mi smatramo da će sazivanje takvog parlamenta...           bs         sr\n",
       "264  \"Dok je 2008. godine gotovo dvije trećine (68 ...           hr         sr\n",
       "267  \"We are on target for mobile certification for...        en-gb         sr\n",
       "269  Češka Republika, Mađarska, Poljska i Slovačka,...           bs         sr\n",
       "270  Hrvatski premijer Ivo Sanader kazao je u srije...           hr         sr\n",
       "272  \"Eu não acredito. Duvido que a Dilma tenha con...        pt-br      es-es\n",
       "273  V Praze žije téměř půl druhého milionu lidí, p...           cz         sk\n",
       "276  Većina tih slučajeva uključuje krijumčarenje o...           hr         sr\n",
       "278  Jika anda mahu memberikan sokongan, kehadiran ...           my         sr\n",
       "279  Zápas sice tradičně strávil mezi náhradníky, a...           cz         sk\n",
       "280  Još uvijek se mora riješiti ogroman broj detal...           bs         sr\n",
       "282  Kazna mu je izrečena u listopadu prošle godine...           hr         sr\n",
       "284  Charles coach Ben Owens said Fenemor had the g...        en-gb         sr\n",
       "286  Jesus recusou a ideia de que a luta pela manut...        pt-pt      es-es\n",
       "287  U Rumunjskoj je izbila politička rasprava oko ...           hr         sr\n",
       "288  No jogo de atribuição do terceiro e quarto lug...        pt-pt      es-es\n",
       "291  DNR director Doyle Childers has said the topog...        en-gb         sr\n",
       "292  As far as I can tell, Blade of the Immortal wi...        en-gb         sr\n",
       "296  A tarifa da água para os munícipes da Póvoa de...        pt-pt      es-es\n",
       "297  SERAMBINEWS.COM - Salah besar jika Anda mengan...           id      es-ar\n",
       "\n",
       "[162 rows x 3 columns]"
      ]
     },
     "execution_count": 35,
     "metadata": {},
     "output_type": "execute_result"
    }
   ],
   "source": [
    "misclassifications = df_result[df_result['ground_truth']!=df_result['prediction']]\n",
    "misclassifications"
   ]
  },
  {
   "cell_type": "markdown",
   "metadata": {},
   "source": [
    "# Important Note: These results will significantly improve if we use full data (23k samples) rather than training only with 700 samples and testing on 300 samples"
   ]
  },
  {
   "cell_type": "code",
   "execution_count": null,
   "metadata": {
    "collapsed": true
   },
   "outputs": [],
   "source": []
  }
 ],
 "metadata": {
  "kernelspec": {
   "display_name": "Python 3",
   "language": "python",
   "name": "python3"
  },
  "language_info": {
   "codemirror_mode": {
    "name": "ipython",
    "version": 3
   },
   "file_extension": ".py",
   "mimetype": "text/x-python",
   "name": "python",
   "nbconvert_exporter": "python",
   "pygments_lexer": "ipython3",
   "version": "3.5.1"
  }
 },
 "nbformat": 4,
 "nbformat_minor": 0
}
